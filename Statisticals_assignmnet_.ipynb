{
  "nbformat": 4,
  "nbformat_minor": 0,
  "metadata": {
    "colab": {
      "provenance": []
    },
    "kernelspec": {
      "name": "python3",
      "display_name": "Python 3"
    },
    "language_info": {
      "name": "python"
    }
  },
  "cells": [
    {
      "cell_type": "markdown",
      "source": [
        "Q1) Explain the different types of data (qualitative and quantitative) and provide examples of each. Discuss nominal, ordinal, interval, and ratio scales\n",
        "\n",
        "Types of Data: Qualitative and Quantitative\n",
        "\n",
        "* **Qualitative** : Non-numerical and can be identified based on names or labels\n",
        "\n",
        "Examples : Name, Gender, Phone Number etc.\n",
        "\n",
        "* **Quantitative :** Form of numbers and can be used for arithmetic processes.\n",
        "\n",
        "Examples : Measurement, Such as height and weight, etc.\n",
        "\n",
        "* **Scale of measurement:**\n",
        "\n",
        "    * Nominal : Represents categories with no inherent order or ranking.\n",
        "\n",
        "    * Ordinal : Represents categories with a specific order or ranking.\n",
        "\n",
        "    * Interval : Interval data is a type of statistical data that has equal spacing between values and no true zero point.\n",
        "\n",
        "    * Ratio scales : Numeric scales with a true zero, allowing ratios to be meaningful (e.g., weight in kg).\n",
        "\n",
        "\n",
        "\n",
        "\n"
      ],
      "metadata": {
        "id": "ViIyHvWBu6YN"
      }
    },
    {
      "cell_type": "markdown",
      "source": [
        "Q2)  What are the measures of central tendency, and when should you use each? Discuss the mean, median, and mode with examples and situations where each is appropriate.\n",
        "\n",
        "**Central Tendencies in Statistics**\n",
        "\n",
        "* Mean : The average taken of given observations is called Mean.\n",
        "\n",
        "  * Examples : Average Test Score\n",
        "\n",
        "* Median : The middle number in a given set of observations is called Median.\n",
        "\n",
        "  * Examples : Median Income in a Region\n",
        "\n",
        "* Mode : The most frequently occurred number in a given set of observations is called mode.\n",
        "\n",
        "  * Examples : Most Common dress size"
      ],
      "metadata": {
        "id": "wm1ycWAyz38G"
      }
    },
    {
      "cell_type": "markdown",
      "source": [
        "Q3)  Explain the concept of dispersion. How do variance and standard deviation measure the spread of data\n",
        "\n",
        "* **Dispersion:** Dispersion is the positive real numbers that are used to define the variability of the data set about any central point.\n",
        "\n",
        "   * Variance : It is defined as the average of the square deviation from the mean of the given data set.\n",
        "   * Standard Deviation :  It is the square root of the arithmetic average of the square of the deviations measured from the mean.\n",
        "* **Example** : In a dataset of test scores, a high standard deviation indicates widely varying score\n",
        "\n"
      ],
      "metadata": {
        "id": "4RW24daS1pVR"
      }
    },
    {
      "cell_type": "markdown",
      "source": [
        "Q4)  What is a box plot, and what can it tell you about the distribution of data?\n",
        "\n",
        "* **Box plot**: A box plot, also known as a box-and-whisker plot, is a graphical representation of the distribution of a dataset. It summarizes key statistics such as the median, quartiles, and outliers, providing insights into the spread and central tendency of the data.\n",
        "\n",
        "* **Distribution of data tells** :  Identies the spread, central tendency, and outliers."
      ],
      "metadata": {
        "id": "xd9ZD-Zd1pGe"
      }
    },
    {
      "cell_type": "markdown",
      "source": [
        "Q5)  Discuss the role of random sampling in making inferences about populations\n",
        "\n",
        "* **Random sampling** : Random sampling is a method employed for selecting observations from a population, facilitating generalization about the entire population.\n",
        "* **Role** : Reduces bias, Increases accuracy, Improves validity, Reduces cost and time, Identifies patterns and Basis for statistical inference."
      ],
      "metadata": {
        "id": "naiIA7Ji4M1N"
      }
    },
    {
      "cell_type": "markdown",
      "source": [
        "Q6)  Explain the concept of skewness and its types. How does skewness affect the interpretation of data?\n",
        "* **Concept** : Skewness is a statistical measure that describes how asymmetric a distribution of data is\n",
        "  * **Positive Skewness**: Tail on the right (e.g., income data with a few very high incomes).\n",
        "  * **Negative Skewness** (Left Skew) :  Tail on the left (e.g., exam scores where most scored high).\n",
        "  * **Zero Skewness** : a distribution is symmetrical, with its left and right sides mirroring each other\n",
        "* **Impact**: Skewness affects the choice of central tendency (e.g., median over mean in skewed data).\n"
      ],
      "metadata": {
        "id": "HXco4rge5U-M"
      }
    },
    {
      "cell_type": "markdown",
      "source": [
        "Q7)  What is the interquartile range (IQR), and how is it used to detect outliers?\n",
        "* **IQR**:The IQR is the difference between the upper and lower quartiles of a set of data. It's a measure of the spread or variability of the data.\n",
        "* **How to identify outliers** :\n",
        "To identify outliers, you can calculate the upper and lower fences by adding or subtracting 1.5 times the IQR from Q3 and Q1, respectively. Any values that are greater than the upper fence or less than the lower fence are considered outliers."
      ],
      "metadata": {
        "id": "eShBmoUG66VK"
      }
    },
    {
      "cell_type": "markdown",
      "source": [
        "Q8) Discuss the conditions under which the binomial distribution is used.\n",
        "* **Binominal Distribution** : The binomial distribution is used to model the probabilities of occurrences when the following conditions are met:\n",
        "* **Conditions**:\n",
        "  * Fixed number of trials\n",
        "  * Two mutually exclusive outcomes\n",
        "  * Fixed probability of success\n",
        "  * Independent trials\n",
        "* **Example** :  the binomial distribution can be used to model the proportion of individuals in a random sample who support one of two political candidates."
      ],
      "metadata": {
        "id": "BR5so-8A7cXQ"
      }
    },
    {
      "cell_type": "markdown",
      "source": [
        "Q9)  Explain the properties of the normal distribution and the empirical rule (68-95-99.7 rule)\n",
        "* **Properties**: Symmetrical, bell-shaped curve with mean = median = mode.\n",
        "* **Empirical rule**:\n",
        "  * **68**: Approximately 68% of data is within one standard deviation of the mean\n",
        "  * **95**: 95% is within two standard deviations\n",
        "  * **99.7** : 99.7% is within three standard deviations.\n"
      ],
      "metadata": {
        "id": "Z116qFVa8SMo"
      }
    },
    {
      "cell_type": "markdown",
      "source": [
        "Q10) Provide a real-life example of a Poisson process and calculate the probability for a specific event\n",
        "* **Example** : Calls per Hour at a Call Center\n",
        "* **Calculation**: If the average is 5 calls/hour, the probability of 9 calls: [ P(X = 9) =\\frac{\\lambda^9 e^{-\\lambda}}{9!}, , \\lambda = 5 ]"
      ],
      "metadata": {
        "id": "HftxmPHp9Nyn"
      }
    },
    {
      "cell_type": "markdown",
      "source": [
        "Q11)  Explain what a random variable is and differentiate between discrete and continuous random variables.\n",
        "* **Random variable** : A random variable is a measurable function from a sample space as a set of possible outcomes to a measurable space\n",
        "  * **Discrete Variables** : They can take only specific or discrete values\n",
        "  * **Continuous Variable** : They can take any value within a specific range."
      ],
      "metadata": {
        "id": "MM8wQSFp-COH"
      }
    },
    {
      "cell_type": "markdown",
      "source": [
        "Q12)  Provide an example dataset, calculate both covariance and correlation, and interpret the results.\n",
        "* **Example Dataset**: [X = [2, 4, 6], , Y = [3, 6, 9]]\n",
        "* **Covariance**: [\\text{Cov(X, Y)} = \\frac{\\sum{(X_i - \\bar{X})(Y_i - \\bar{Y})}}{n-1}]\n",
        "* C**orrelation**: Standardized measure ((-1) to (1)) indicating strength and direction of\n",
        "* **relationship**: [\\text{Correlation} = \\frac{\\text{Cov(X, Y)}}{\\sigma_X\\cdot \\sigma_Y} ]\n",
        "* **Interpretation**: A positive value indicates a direct relationship, and a negative value indicates an inverse relationship.\n"
      ],
      "metadata": {
        "id": "FS63zfm__Dan"
      }
    },
    {
      "cell_type": "code",
      "source": [],
      "metadata": {
        "id": "6XtDQRb85Twh"
      },
      "execution_count": null,
      "outputs": []
    }
  ]
}